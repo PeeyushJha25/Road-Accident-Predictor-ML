{
  "nbformat": 4,
  "nbformat_minor": 0,
  "metadata": {
    "colab": {
      "provenance": []
    },
    "kernelspec": {
      "name": "python3",
      "display_name": "Python 3"
    },
    "language_info": {
      "name": "python"
    }
  },
  "cells": [
    {
      "cell_type": "code",
      "execution_count": null,
      "metadata": {
        "colab": {
          "base_uri": "https://localhost:8080/"
        },
        "id": "AjYq2t1dEDMT",
        "outputId": "78ca6aeb-2804-4a33-c01f-329cef65b174"
      },
      "outputs": [
        {
          "output_type": "stream",
          "name": "stdout",
          "text": [
            "Cloning into 'CSE_151A'...\n",
            "remote: Enumerating objects: 53, done.\u001b[K\n",
            "remote: Counting objects: 100% (53/53), done.\u001b[K\n",
            "remote: Compressing objects: 100% (37/37), done.\u001b[K\n",
            "remote: Total 53 (delta 11), reused 10 (delta 3), pack-reused 0\u001b[K\n",
            "Receiving objects: 100% (53/53), 1.52 MiB | 3.69 MiB/s, done.\n",
            "Resolving deltas: 100% (11/11), done.\n"
          ]
        }
      ],
      "source": [
        "!git clone https://github.com/devPach4545/CSE_151A.git"
      ]
    },
    {
      "cell_type": "code",
      "source": [
        "'''\n",
        "Just a list of whether or not we can use this field and how we could preprocess it\n",
        "\n",
        "description - no(block of text that is too difficult to interpret)\n",
        "belts - yes(encode as 0 or 1)\n",
        "personal.injury - yes(encode as 0 or 1)\n",
        "property.damage - yes(encode as 0 or 1)\n",
        "commercial.license - yes(encode as 0 or 1)\n",
        "commercial.vehicle - yes(encode as 0 or 1)\n",
        "state - yes (encode the states with one hot encoding)\n",
        "vehicletype - yes(encode the vehicles with one hot encoding)\n",
        "year - yes?(its not a continous number)\n",
        "make - yes(one hot encode the manufacturer)\n",
        "model - yes(one hot encode)\n",
        "color - yes(one hot encode)\n",
        "charge - possible(one hot encode?)\n",
        "did violation contribute to accident - yes(0 or 1)\n",
        "race - yes(one hot)\n",
        "gender - yes(one hot)\n",
        "driver.city - yes(one hot)\n",
        "driver licesnse state - yes(one hot)\n",
        "arrest type - yes (one hot)\n",
        "violation type - yes(one hot)\n",
        "------------------------------------------------------------------------------------------\n",
        "General comments about the data\n",
        "\n",
        "-There are some outliers in the year column. Min is 0 and Max is 9999 which shouldn't be possible. Standard deviation is also 69 which is odd. We might need to just discard data with weird years\n",
        "-Including race and gender might be a little weird(I'm not trying to get expelled).\n",
        "\n",
        "\n",
        "'''"
      ],
      "metadata": {
        "id": "Q5zWArm2Q7p1"
      },
      "execution_count": null,
      "outputs": []
    },
    {
      "cell_type": "code",
      "source": [
        "import pandas as pd\n",
        "import numpy as np\n",
        "import seaborn as sns"
      ],
      "metadata": {
        "id": "U5dSg18AEwe0"
      },
      "execution_count": null,
      "outputs": []
    },
    {
      "cell_type": "code",
      "source": [
        "data = pd.read_csv('/content/CSE_151A/traffic_violations.csv')\n",
        "print(data)"
      ],
      "metadata": {
        "colab": {
          "base_uri": "https://localhost:8080/"
        },
        "id": "6_7-lY4GEEjq",
        "outputId": "665671e2-15df-4155-d709-cca2ce329a33"
      },
      "execution_count": null,
      "outputs": [
        {
          "output_type": "stream",
          "name": "stdout",
          "text": [
            "                                             Description Belts  \\\n",
            "0      DISPLAYING EXPIRED REGISTRATION PLATE ISSUED B...    No   \n",
            "1      DRIVER FAIL TO STOP AT RED TRAFFIC SIGNAL BEFO...    No   \n",
            "2          DRIVING UNDER THE INFLUENCE OF ALCOHOL PER SE    No   \n",
            "3      PERSON DRIVING MOTOR VEHICLE ON HIGHWAY OR PUB...    No   \n",
            "4      DISPLAYING EXPIRED REGISTRATION PLATE ISSUED B...    No   \n",
            "...                                                  ...   ...   \n",
            "70335         PARKING WHERE PROHIBITED BY OFFICIAL SIGNS    No   \n",
            "70336  FAILURE TO DISPLAY REGISTRATION CARD UPON DEMA...    No   \n",
            "70337  DRIVING VEHICLE ON HIGHWAY WITH SUSPENDED REGI...    No   \n",
            "70338         EXCEEDING THE POSTED SPEED LIMIT OF 30 MPH    No   \n",
            "70339  OPERATING VEHICLE ON HIGHWAY WITH UNAUTHORIZED...    No   \n",
            "\n",
            "      Personal.Injury Property.Damage Commercial.License Commercial.Vehicle  \\\n",
            "0                  No              No                 No                 No   \n",
            "1                  No              No                 No                 No   \n",
            "2                  No              No                 No                 No   \n",
            "3                  No              No                 No                 No   \n",
            "4                  No              No                Yes                 No   \n",
            "...               ...             ...                ...                ...   \n",
            "70335              No              No                 No                 No   \n",
            "70336              No              No                 No                 No   \n",
            "70337              No              No                 No                 No   \n",
            "70338              No              No                 No                 No   \n",
            "70339              No              No                 No                 No   \n",
            "\n",
            "      State      VehicleType    Year     Make  ...   Color    Charge  \\\n",
            "0        NC  02 - Automobile  2013.0  HYUNDAI  ...    GRAY    13411f   \n",
            "1        MD  02 - Automobile  2015.0     FORD  ...  SILVER   21202i1   \n",
            "2        MD  02 - Automobile  2000.0   TOYOTA  ...   BLACK   21902a2   \n",
            "3        MD  02 - Automobile  2012.0     HOND  ...   BLACK    16303c   \n",
            "4        MD  02 - Automobile  2010.0     FORD  ...   BLACK    13411f   \n",
            "...     ...              ...     ...      ...  ...     ...       ...   \n",
            "70335    MD  02 - Automobile  2013.0   TOYOTA  ...  SILVER  211003aa   \n",
            "70336    MD  02 - Automobile  2012.0    LEXUS  ...   BLACK    13409b   \n",
            "70337    MD  02 - Automobile  2005.0     MAZD  ...  ORANGE    13401h   \n",
            "70338    MD  02 - Automobile  2005.0     MERZ  ...  SILVER    218011   \n",
            "70339    MD  02 - Automobile  2003.0     HOND  ...  SILVER   22406i1   \n",
            "\n",
            "      Contributed.To.Accident   Race Gender    Driver.City Driver.State  \\\n",
            "0                          No  WHITE      F      ASHEVILLE           NC   \n",
            "1                          No  OTHER      M  SILVER SPRING           MD   \n",
            "2                          No  BLACK      M  SILVER SPRING           MD   \n",
            "3                          No  BLACK      M       COLUMBIA           MD   \n",
            "4                          No  WHITE      M     MOUNT AIRY           MD   \n",
            "...                       ...    ...    ...            ...          ...   \n",
            "70335                      No  BLACK      F      ROCKVILLE           MD   \n",
            "70336                      No  ASIAN      F   GAITHERSBURG           MD   \n",
            "70337                      No  WHITE      F         MEQUON           WI   \n",
            "70338                      No  WHITE      F     CLARKSBURG           MD   \n",
            "70339                      No  WHITE      F      FREDERICK           MD   \n",
            "\n",
            "      DL.State          Arrest.Type Violation.Type  \n",
            "0           NC    A - Marked Patrol       Citation  \n",
            "1           MD    A - Marked Patrol       Citation  \n",
            "2           MD  B - Unmarked Patrol       Citation  \n",
            "3           MD    A - Marked Patrol       Citation  \n",
            "4           MD    A - Marked Patrol       Citation  \n",
            "...        ...                  ...            ...  \n",
            "70335       MD    A - Marked Patrol        Warning  \n",
            "70336       MD     Q - Marked Laser        Warning  \n",
            "70337       WI    A - Marked Patrol        Warning  \n",
            "70338       MD     Q - Marked Laser        Warning  \n",
            "70339       MD  B - Unmarked Patrol        Warning  \n",
            "\n",
            "[70340 rows x 21 columns]\n"
          ]
        }
      ]
    },
    {
      "cell_type": "code",
      "source": [
        "#Number of observation and variable\n",
        "observation = data.shape[0]\n",
        "print('Number of observation: ',observation)\n",
        "variables = data.shape[1]\n",
        "print('Number of variables: ', variables)\n",
        "#"
      ],
      "metadata": {
        "colab": {
          "base_uri": "https://localhost:8080/"
        },
        "id": "q1vM0UM6E7JB",
        "outputId": "41638d25-543d-4763-a1da-7851bf39d038"
      },
      "execution_count": null,
      "outputs": [
        {
          "output_type": "stream",
          "name": "stdout",
          "text": [
            "Number of observation:  70340\n",
            "Number of variables:  21\n"
          ]
        }
      ]
    },
    {
      "cell_type": "code",
      "source": [
        "#Summary Statistics\n",
        "print(data.describe())"
      ],
      "metadata": {
        "id": "Ta5KBFAQGsSG",
        "colab": {
          "base_uri": "https://localhost:8080/"
        },
        "outputId": "14c1a1db-474d-48bc-9043-ab4faa3ad093"
      },
      "execution_count": null,
      "outputs": [
        {
          "output_type": "stream",
          "name": "stdout",
          "text": [
            "               Year\n",
            "count  69906.000000\n",
            "mean    2004.947959\n",
            "std       69.359833\n",
            "min        0.000000\n",
            "25%     2002.000000\n",
            "50%     2006.000000\n",
            "75%     2011.000000\n",
            "max     9999.000000\n"
          ]
        }
      ]
    },
    {
      "cell_type": "code",
      "source": [
        "# Missing data\n",
        "print(data.isnull().sum())\n"
      ],
      "metadata": {
        "colab": {
          "base_uri": "https://localhost:8080/"
        },
        "id": "vjjYeCnoJk0g",
        "outputId": "ead90b95-ec57-4ccb-ef01-6a657dfaa09f"
      },
      "execution_count": null,
      "outputs": [
        {
          "output_type": "stream",
          "name": "stdout",
          "text": [
            "Description                  0\n",
            "Belts                        0\n",
            "Personal.Injury              0\n",
            "Property.Damage              0\n",
            "Commercial.License           0\n",
            "Commercial.Vehicle           0\n",
            "State                        3\n",
            "VehicleType                  0\n",
            "Year                       434\n",
            "Make                       448\n",
            "Model                      455\n",
            "Color                      888\n",
            "Charge                       0\n",
            "Contributed.To.Accident      0\n",
            "Race                         0\n",
            "Gender                       0\n",
            "Driver.City                  8\n",
            "Driver.State                 0\n",
            "DL.State                    52\n",
            "Arrest.Type                  0\n",
            "Violation.Type               0\n",
            "dtype: int64\n"
          ]
        }
      ]
    },
    {
      "cell_type": "code",
      "source": [
        "# 4. Scales of Data\n",
        "print(\"Data Types:\")\n",
        "print(data.dtypes)\n",
        "print()"
      ],
      "metadata": {
        "colab": {
          "base_uri": "https://localhost:8080/"
        },
        "id": "cmvYWjiWKSdr",
        "outputId": "3a9ee29c-6fbd-4f47-f67f-158b428e2537"
      },
      "execution_count": null,
      "outputs": [
        {
          "output_type": "stream",
          "name": "stdout",
          "text": [
            "Data Types:\n",
            "Description                 object\n",
            "Belts                       object\n",
            "Personal.Injury             object\n",
            "Property.Damage             object\n",
            "Commercial.License          object\n",
            "Commercial.Vehicle          object\n",
            "State                       object\n",
            "VehicleType                 object\n",
            "Year                       float64\n",
            "Make                        object\n",
            "Model                       object\n",
            "Color                       object\n",
            "Charge                      object\n",
            "Contributed.To.Accident     object\n",
            "Race                        object\n",
            "Gender                      object\n",
            "Driver.City                 object\n",
            "Driver.State                object\n",
            "DL.State                    object\n",
            "Arrest.Type                 object\n",
            "Violation.Type              object\n",
            "dtype: object\n",
            "\n"
          ]
        }
      ]
    },
    {
      "cell_type": "code",
      "source": [
        "# Column Descriptions\n",
        "print(\"Column Descriptions:\")\n",
        "print(data.info())"
      ],
      "metadata": {
        "id": "gPE2RKYtO_70",
        "outputId": "051a1d64-e674-4b92-9252-c166c9e93e92",
        "colab": {
          "base_uri": "https://localhost:8080/"
        }
      },
      "execution_count": null,
      "outputs": [
        {
          "output_type": "stream",
          "name": "stdout",
          "text": [
            "Column Descriptions:\n",
            "<class 'pandas.core.frame.DataFrame'>\n",
            "RangeIndex: 70340 entries, 0 to 70339\n",
            "Data columns (total 21 columns):\n",
            " #   Column                   Non-Null Count  Dtype  \n",
            "---  ------                   --------------  -----  \n",
            " 0   Description              70340 non-null  object \n",
            " 1   Belts                    70340 non-null  object \n",
            " 2   Personal.Injury          70340 non-null  object \n",
            " 3   Property.Damage          70340 non-null  object \n",
            " 4   Commercial.License       70340 non-null  object \n",
            " 5   Commercial.Vehicle       70340 non-null  object \n",
            " 6   State                    70337 non-null  object \n",
            " 7   VehicleType              70340 non-null  object \n",
            " 8   Year                     69906 non-null  float64\n",
            " 9   Make                     69892 non-null  object \n",
            " 10  Model                    69885 non-null  object \n",
            " 11  Color                    69452 non-null  object \n",
            " 12  Charge                   70340 non-null  object \n",
            " 13  Contributed.To.Accident  70340 non-null  object \n",
            " 14  Race                     70340 non-null  object \n",
            " 15  Gender                   70340 non-null  object \n",
            " 16  Driver.City              70332 non-null  object \n",
            " 17  Driver.State             70340 non-null  object \n",
            " 18  DL.State                 70288 non-null  object \n",
            " 19  Arrest.Type              70340 non-null  object \n",
            " 20  Violation.Type           70340 non-null  object \n",
            "dtypes: float64(1), object(20)\n",
            "memory usage: 11.3+ MB\n",
            "None\n"
          ]
        }
      ]
    }
  ]
}